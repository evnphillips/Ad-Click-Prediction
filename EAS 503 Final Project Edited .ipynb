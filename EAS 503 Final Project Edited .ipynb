{
 "cells": [
  {
   "cell_type": "markdown",
   "id": "afbc5652",
   "metadata": {},
   "source": [
    "# Importing necessary Libraries and Functions"
   ]
  },
  {
   "cell_type": "code",
   "execution_count": 164,
   "id": "4b332b46",
   "metadata": {},
   "outputs": [],
   "source": [
    "from datetime import datetime\n",
    "from IPython.display import display, HTML\n",
    "import pandas as pd\n",
    "import sqlite3\n",
    "from sqlite3 import Error\n",
    "import seaborn as sns\n",
    "from sklearn.model_selection import train_test_split\n",
    "from sklearn import preprocessing\n",
    "import numpy\n",
    "from pandas import read_csv\n",
    "from sklearn.metrics import confusion_matrix\n",
    "from sklearn.metrics import accuracy_score"
   ]
  },
  {
   "cell_type": "markdown",
   "id": "9b7e5322",
   "metadata": {},
   "source": [
    "# Creating function for sqlite"
   ]
  },
  {
   "cell_type": "code",
   "execution_count": 142,
   "id": "a90ef79a",
   "metadata": {},
   "outputs": [],
   "source": [
    "def create_connection(db_file, delete_db=False):\n",
    "    import os\n",
    "    if delete_db and os.path.exists(db_file):\n",
    "        os.remove(db_file)\n",
    "\n",
    "    conn = None\n",
    "    try:\n",
    "        conn = sqlite3.connect(db_file)\n",
    "        conn.execute(\"PRAGMA foreign_keys = 1\")\n",
    "    except Error as e:\n",
    "        print(e)\n",
    "    return conn\n",
    "\n",
    "def create_table(conn, create_table_sql, drop_table_name=None):\n",
    "    \n",
    "    if drop_table_name: # You can optionally pass drop_table_name to drop the table. \n",
    "        try:\n",
    "            c = conn.cursor()\n",
    "            c.execute(\"\"\"DROP TABLE IF EXISTS %s\"\"\" % (drop_table_name))\n",
    "        except Error as e:\n",
    "            print(e)\n",
    "    try:\n",
    "        c = conn.cursor()\n",
    "        c.execute(create_table_sql)\n",
    "    except Error as e:\n",
    "        print(e)"
   ]
  },
  {
   "cell_type": "markdown",
   "id": "e922bde4",
   "metadata": {},
   "source": [
    "### Reference URL for Dataset"
   ]
  },
  {
   "cell_type": "markdown",
   "id": "a9893b9f",
   "metadata": {},
   "source": [
    "#### https://www.kaggle.com/arashnic/ctr-in-advertisement"
   ]
  },
  {
   "cell_type": "markdown",
   "id": "992319e7",
   "metadata": {},
   "source": [
    "# Reading CSV File"
   ]
  },
  {
   "cell_type": "code",
   "execution_count": 120,
   "id": "72f29737",
   "metadata": {},
   "outputs": [
    {
     "data": {
      "text/html": [
       "<div>\n",
       "<style scoped>\n",
       "    .dataframe tbody tr th:only-of-type {\n",
       "        vertical-align: middle;\n",
       "    }\n",
       "\n",
       "    .dataframe tbody tr th {\n",
       "        vertical-align: top;\n",
       "    }\n",
       "\n",
       "    .dataframe thead th {\n",
       "        text-align: right;\n",
       "    }\n",
       "</style>\n",
       "<table border=\"1\" class=\"dataframe\">\n",
       "  <thead>\n",
       "    <tr style=\"text-align: right;\">\n",
       "      <th></th>\n",
       "      <th>session_id</th>\n",
       "      <th>DateTime</th>\n",
       "      <th>user_id</th>\n",
       "      <th>product</th>\n",
       "      <th>campaign_id</th>\n",
       "      <th>webpage_id</th>\n",
       "      <th>product_category_1</th>\n",
       "      <th>product_category_2</th>\n",
       "      <th>user_group_id</th>\n",
       "      <th>gender</th>\n",
       "      <th>age_level</th>\n",
       "      <th>user_depth</th>\n",
       "      <th>city_development_index</th>\n",
       "      <th>var_1</th>\n",
       "      <th>is_click</th>\n",
       "    </tr>\n",
       "  </thead>\n",
       "  <tbody>\n",
       "    <tr>\n",
       "      <th>0</th>\n",
       "      <td>140690</td>\n",
       "      <td>2017-07-02 00:00</td>\n",
       "      <td>858557</td>\n",
       "      <td>C</td>\n",
       "      <td>359520</td>\n",
       "      <td>13787</td>\n",
       "      <td>4</td>\n",
       "      <td>NaN</td>\n",
       "      <td>10.0</td>\n",
       "      <td>Female</td>\n",
       "      <td>4.0</td>\n",
       "      <td>3.0</td>\n",
       "      <td>3.0</td>\n",
       "      <td>0</td>\n",
       "      <td>0</td>\n",
       "    </tr>\n",
       "    <tr>\n",
       "      <th>1</th>\n",
       "      <td>333291</td>\n",
       "      <td>2017-07-02 00:00</td>\n",
       "      <td>243253</td>\n",
       "      <td>C</td>\n",
       "      <td>105960</td>\n",
       "      <td>11085</td>\n",
       "      <td>5</td>\n",
       "      <td>NaN</td>\n",
       "      <td>8.0</td>\n",
       "      <td>Female</td>\n",
       "      <td>2.0</td>\n",
       "      <td>2.0</td>\n",
       "      <td>NaN</td>\n",
       "      <td>0</td>\n",
       "      <td>0</td>\n",
       "    </tr>\n",
       "    <tr>\n",
       "      <th>2</th>\n",
       "      <td>129781</td>\n",
       "      <td>2017-07-02 00:00</td>\n",
       "      <td>243253</td>\n",
       "      <td>C</td>\n",
       "      <td>359520</td>\n",
       "      <td>13787</td>\n",
       "      <td>4</td>\n",
       "      <td>NaN</td>\n",
       "      <td>8.0</td>\n",
       "      <td>Female</td>\n",
       "      <td>2.0</td>\n",
       "      <td>2.0</td>\n",
       "      <td>NaN</td>\n",
       "      <td>0</td>\n",
       "      <td>0</td>\n",
       "    </tr>\n",
       "    <tr>\n",
       "      <th>3</th>\n",
       "      <td>464848</td>\n",
       "      <td>2017-07-02 00:00</td>\n",
       "      <td>1097446</td>\n",
       "      <td>I</td>\n",
       "      <td>359520</td>\n",
       "      <td>13787</td>\n",
       "      <td>3</td>\n",
       "      <td>NaN</td>\n",
       "      <td>3.0</td>\n",
       "      <td>Male</td>\n",
       "      <td>3.0</td>\n",
       "      <td>3.0</td>\n",
       "      <td>2.0</td>\n",
       "      <td>1</td>\n",
       "      <td>0</td>\n",
       "    </tr>\n",
       "    <tr>\n",
       "      <th>4</th>\n",
       "      <td>90569</td>\n",
       "      <td>2017-07-02 00:01</td>\n",
       "      <td>663656</td>\n",
       "      <td>C</td>\n",
       "      <td>405490</td>\n",
       "      <td>60305</td>\n",
       "      <td>3</td>\n",
       "      <td>NaN</td>\n",
       "      <td>2.0</td>\n",
       "      <td>Male</td>\n",
       "      <td>2.0</td>\n",
       "      <td>3.0</td>\n",
       "      <td>2.0</td>\n",
       "      <td>1</td>\n",
       "      <td>0</td>\n",
       "    </tr>\n",
       "  </tbody>\n",
       "</table>\n",
       "</div>"
      ],
      "text/plain": [
       "   session_id          DateTime  user_id product  campaign_id  webpage_id  \\\n",
       "0      140690  2017-07-02 00:00   858557       C       359520       13787   \n",
       "1      333291  2017-07-02 00:00   243253       C       105960       11085   \n",
       "2      129781  2017-07-02 00:00   243253       C       359520       13787   \n",
       "3      464848  2017-07-02 00:00  1097446       I       359520       13787   \n",
       "4       90569  2017-07-02 00:01   663656       C       405490       60305   \n",
       "\n",
       "   product_category_1  product_category_2  user_group_id  gender  age_level  \\\n",
       "0                   4                 NaN           10.0  Female        4.0   \n",
       "1                   5                 NaN            8.0  Female        2.0   \n",
       "2                   4                 NaN            8.0  Female        2.0   \n",
       "3                   3                 NaN            3.0    Male        3.0   \n",
       "4                   3                 NaN            2.0    Male        2.0   \n",
       "\n",
       "   user_depth  city_development_index  var_1  is_click  \n",
       "0         3.0                     3.0      0         0  \n",
       "1         2.0                     NaN      0         0  \n",
       "2         2.0                     NaN      0         0  \n",
       "3         3.0                     2.0      1         0  \n",
       "4         3.0                     2.0      1         0  "
      ]
     },
     "execution_count": 120,
     "metadata": {},
     "output_type": "execute_result"
    }
   ],
   "source": [
    "train_df = pd.read_csv(\"Ad_click_prediction_train.csv\")\n",
    "train_df.head()"
   ]
  },
  {
   "cell_type": "markdown",
   "id": "55e92921",
   "metadata": {},
   "source": [
    "# Finding N/A values if present"
   ]
  },
  {
   "cell_type": "code",
   "execution_count": 132,
   "id": "2bbf9a77",
   "metadata": {
    "scrolled": true
   },
   "outputs": [
    {
     "data": {
      "text/plain": [
       "session_id                  int64\n",
       "DateTime                   object\n",
       "user_id                     int64\n",
       "product                    object\n",
       "campaign_id                 int64\n",
       "webpage_id                  int64\n",
       "product_category_1          int64\n",
       "product_category_2        float64\n",
       "user_group_id             float64\n",
       "gender                     object\n",
       "age_level                 float64\n",
       "user_depth                float64\n",
       "city_development_index    float64\n",
       "var_1                       int64\n",
       "is_click                    int64\n",
       "dtype: object"
      ]
     },
     "execution_count": 132,
     "metadata": {},
     "output_type": "execute_result"
    }
   ],
   "source": [
    "df = train_df[train_df.isnull().sum(axis=1) < 3]\n",
    "df.isnull().sum()\n",
    "df.dtypes\n"
   ]
  },
  {
   "cell_type": "markdown",
   "id": "eddac9ae",
   "metadata": {},
   "source": [
    "# Creating 3 tables from the original table to normalize the data\n",
    "# Creating  dataframe for first table - Product Details"
   ]
  },
  {
   "cell_type": "code",
   "execution_count": 154,
   "id": "5117be27",
   "metadata": {},
   "outputs": [],
   "source": [
    "pro_df = df[[\"product\",\"product_category_1\"]]\n",
    "pro_df.product_category_1 = pro_df.product_category_1.astype(str)\n",
    "pro_df.loc[:,\"product_id\"] = pro_df.loc[:,\"product\"]+pro_df.loc[:,\"product_category_1\"]\n",
    "data = pd.DataFrame(pro_df[\"product_id\"].unique(),columns=[\"product_id\"])\n",
    "data.loc[:,\"product\"] = data.product_id.str.extract(\"(\\w)\",expand = True)\n",
    "data.loc[:,\"product_catergory_1\"] = data.product_id.str.extract(\"(\\d)\",expand = True)\n",
    "s = list(data.to_records(index=False))"
   ]
  },
  {
   "cell_type": "markdown",
   "id": "f6f0a82a",
   "metadata": {},
   "source": [
    "# Creating dataframe for second table - Campaign Details"
   ]
  },
  {
   "cell_type": "code",
   "execution_count": 123,
   "id": "7a0d9d42",
   "metadata": {},
   "outputs": [],
   "source": [
    "ls=[]\n",
    "for idx, row in df.iterrows():\n",
    "    if (row['webpage_id'],row['campaign_id']) not in ls:\n",
    "        ls.append((row['webpage_id'],row['campaign_id']))"
   ]
  },
  {
   "cell_type": "markdown",
   "id": "63eaa62a",
   "metadata": {},
   "source": [
    "# Creating dataframe for third table - User Session"
   ]
  },
  {
   "cell_type": "code",
   "execution_count": 133,
   "id": "88f514b7",
   "metadata": {},
   "outputs": [],
   "source": [
    "df_user_session=df[[\"session_id\",\"campaign_id\",\"DateTime\",\"user_id\",\"user_group_id\",\"gender\",\"age_level\",\"user_depth\",\"is_click\",\"var_1\"]]\n",
    "df_user_session= pd.concat([df_user_session,pro_df[\"product_id\"]],axis=1)\n",
    "data.product_catergory_1 = data.product_catergory_1.astype(int)\n",
    "df_user_session.user_group_id = df_user_session.user_group_id.astype(int)\n",
    "df_user_session.age_level = df_user_session.age_level.astype(int)\n",
    "df_user_session.user_depth = df_user_session.user_depth.astype(int)\n",
    "df_user_session.is_click = df_user_session.is_click.astype(int)\n",
    "df_user_session.var_1 = df_user_session.var_1.astype(int)"
   ]
  },
  {
   "cell_type": "markdown",
   "id": "a7da3c22",
   "metadata": {},
   "source": [
    "# Creating connection and tables in sqlite3 database"
   ]
  },
  {
   "cell_type": "code",
   "execution_count": 134,
   "id": "12562750",
   "metadata": {},
   "outputs": [],
   "source": [
    "conn = create_connection('normalized.db',delete_db=True)\n",
    "cur = conn.cursor()\n",
    "create_prod_sql=\"\"\"create table [ProductDetails](\n",
    "[product_id] TEXT PRIMARY KEY, \n",
    "[product] TEXT,\n",
    "[product_category_1] INTEGER \n",
    ");\"\"\"\n",
    "create_campaign_sql=\"\"\"create table [CampaignDetails](\n",
    "[campaign_id] INTEGER PRIMARY KEY, \n",
    "[webpage_id] INTEGER\n",
    ");\"\"\"\n",
    "with conn:\n",
    "        cur.execute('''DROP TABLE IF EXISTS ProductDetails''')\n",
    "        cur.execute('''DROP TABLE IF EXISTS CampaignDetails''')\n",
    "        cur.execute('''DROP TABLE IF EXISTS UserSession''')\n",
    "        create_table(conn,create_prod_sql)\n",
    "        create_table(conn,create_campaign_sql)\n",
    "        sql = ''' INSERT INTO ProductDetails(product_id,product,product_category_1) VALUES(?,?,?) '''\n",
    "        cur.executemany(sql, s)        \n",
    "        sql = ''' INSERT INTO CampaignDetails(webpage_id,campaign_id) VALUES(?,?) '''\n",
    "        cur.executemany(sql, ls)"
   ]
  },
  {
   "cell_type": "code",
   "execution_count": 135,
   "id": "1de5545c",
   "metadata": {},
   "outputs": [],
   "source": [
    "create_sql=\"\"\"CREATE TABLE [UserSession](\n",
    "[session_id] INTEGER PRIMARY KEY NOT NULL,\n",
    "[campaign_id] INTEGER,\n",
    "[DateTime] TEXT,\n",
    "[user_id] INTEGER,\n",
    "[user_group_id] INTEGER,\n",
    "[gender] TEXT,\n",
    "[age_level] INTEGER,\n",
    "[user_depth] INTEGER,\n",
    "[is_click] INTEGER,\n",
    "[var_1] INTEGER,\n",
    "[product_id] TEXT,\n",
    "foreign key(product_id) references ProductDetails(product_id),\n",
    "foreign key(campaign_id) references CampaignDetails(campaign_id)\n",
    ");\"\"\"\n",
    "with conn:\n",
    "        sql = ''' INSERT INTO UserSession(session_id,campaign_id,DateTime,user_id,\n",
    "        user_group_id,gender,age_level,user_depth,is_click,var_1,product_id)VALUES(?,?,?,?,?,?,?,?,?,?,?) '''\n",
    "        create_table(conn,create_sql)\n",
    "        for i in range(len(df_user_session)):\n",
    "            cur.execute(sql,(int(df_user_session.iloc[i,0]),int(df_user_session.iloc[i,1]),df_user_session.iloc[i,2],int(df_user_session.iloc[i,3]),int(df_user_session.iloc[i,4]),df_user_session.iloc[i,5],int(df_user_session.iloc[i,6]),int(df_user_session.iloc[i,7]),int(df_user_session.iloc[i,8]),int(df_user_session.iloc[i,9]),df_user_session.iloc[i,10]))"
   ]
  },
  {
   "cell_type": "code",
   "execution_count": 136,
   "id": "88454008",
   "metadata": {
    "scrolled": true
   },
   "outputs": [
    {
     "data": {
      "text/html": [
       "<div>\n",
       "<style scoped>\n",
       "    .dataframe tbody tr th:only-of-type {\n",
       "        vertical-align: middle;\n",
       "    }\n",
       "\n",
       "    .dataframe tbody tr th {\n",
       "        vertical-align: top;\n",
       "    }\n",
       "\n",
       "    .dataframe thead th {\n",
       "        text-align: right;\n",
       "    }\n",
       "</style>\n",
       "<table border=\"1\" class=\"dataframe\">\n",
       "  <thead>\n",
       "    <tr style=\"text-align: right;\">\n",
       "      <th></th>\n",
       "      <th>session_id</th>\n",
       "      <th>campaign_id</th>\n",
       "      <th>DateTime</th>\n",
       "      <th>user_id</th>\n",
       "      <th>user_group_id</th>\n",
       "      <th>gender</th>\n",
       "      <th>age_level</th>\n",
       "      <th>user_depth</th>\n",
       "      <th>is_click</th>\n",
       "      <th>var_1</th>\n",
       "      <th>product_id</th>\n",
       "    </tr>\n",
       "  </thead>\n",
       "  <tbody>\n",
       "    <tr>\n",
       "      <th>0</th>\n",
       "      <td>2</td>\n",
       "      <td>404347</td>\n",
       "      <td>2017-07-06 14:06</td>\n",
       "      <td>16467</td>\n",
       "      <td>3</td>\n",
       "      <td>Male</td>\n",
       "      <td>3</td>\n",
       "      <td>3</td>\n",
       "      <td>0</td>\n",
       "      <td>1</td>\n",
       "      <td>A1</td>\n",
       "    </tr>\n",
       "    <tr>\n",
       "      <th>1</th>\n",
       "      <td>3</td>\n",
       "      <td>404347</td>\n",
       "      <td>2017-07-05 19:38</td>\n",
       "      <td>1045409</td>\n",
       "      <td>2</td>\n",
       "      <td>Male</td>\n",
       "      <td>2</td>\n",
       "      <td>3</td>\n",
       "      <td>0</td>\n",
       "      <td>0</td>\n",
       "      <td>B1</td>\n",
       "    </tr>\n",
       "    <tr>\n",
       "      <th>2</th>\n",
       "      <td>4</td>\n",
       "      <td>404347</td>\n",
       "      <td>2017-07-06 01:32</td>\n",
       "      <td>303497</td>\n",
       "      <td>1</td>\n",
       "      <td>Male</td>\n",
       "      <td>1</td>\n",
       "      <td>3</td>\n",
       "      <td>0</td>\n",
       "      <td>1</td>\n",
       "      <td>C1</td>\n",
       "    </tr>\n",
       "    <tr>\n",
       "      <th>3</th>\n",
       "      <td>5</td>\n",
       "      <td>404347</td>\n",
       "      <td>2017-07-03 14:30</td>\n",
       "      <td>999059</td>\n",
       "      <td>11</td>\n",
       "      <td>Female</td>\n",
       "      <td>5</td>\n",
       "      <td>2</td>\n",
       "      <td>0</td>\n",
       "      <td>0</td>\n",
       "      <td>D1</td>\n",
       "    </tr>\n",
       "    <tr>\n",
       "      <th>4</th>\n",
       "      <td>6</td>\n",
       "      <td>404347</td>\n",
       "      <td>2017-07-03 21:25</td>\n",
       "      <td>148074</td>\n",
       "      <td>5</td>\n",
       "      <td>Male</td>\n",
       "      <td>5</td>\n",
       "      <td>3</td>\n",
       "      <td>0</td>\n",
       "      <td>0</td>\n",
       "      <td>D1</td>\n",
       "    </tr>\n",
       "  </tbody>\n",
       "</table>\n",
       "</div>"
      ],
      "text/plain": [
       "   session_id  campaign_id          DateTime  user_id  user_group_id  gender  \\\n",
       "0           2       404347  2017-07-06 14:06    16467              3    Male   \n",
       "1           3       404347  2017-07-05 19:38  1045409              2    Male   \n",
       "2           4       404347  2017-07-06 01:32   303497              1    Male   \n",
       "3           5       404347  2017-07-03 14:30   999059             11  Female   \n",
       "4           6       404347  2017-07-03 21:25   148074              5    Male   \n",
       "\n",
       "   age_level  user_depth  is_click  var_1 product_id  \n",
       "0          3           3         0      1         A1  \n",
       "1          2           3         0      0         B1  \n",
       "2          1           3         0      1         C1  \n",
       "3          5           2         0      0         D1  \n",
       "4          5           3         0      0         D1  "
      ]
     },
     "execution_count": 136,
     "metadata": {},
     "output_type": "execute_result"
    }
   ],
   "source": [
    "df1 = pd.read_sql_query(\"\"\"SELECT * FROM UserSession\"\"\", conn)\n",
    "df1.head()"
   ]
  },
  {
   "cell_type": "code",
   "execution_count": 137,
   "id": "989af760",
   "metadata": {},
   "outputs": [
    {
     "data": {
      "text/html": [
       "<div>\n",
       "<style scoped>\n",
       "    .dataframe tbody tr th:only-of-type {\n",
       "        vertical-align: middle;\n",
       "    }\n",
       "\n",
       "    .dataframe tbody tr th {\n",
       "        vertical-align: top;\n",
       "    }\n",
       "\n",
       "    .dataframe thead th {\n",
       "        text-align: right;\n",
       "    }\n",
       "</style>\n",
       "<table border=\"1\" class=\"dataframe\">\n",
       "  <thead>\n",
       "    <tr style=\"text-align: right;\">\n",
       "      <th></th>\n",
       "      <th>product_id</th>\n",
       "      <th>product</th>\n",
       "      <th>product_category_1</th>\n",
       "    </tr>\n",
       "  </thead>\n",
       "  <tbody>\n",
       "    <tr>\n",
       "      <th>0</th>\n",
       "      <td>C4</td>\n",
       "      <td>C</td>\n",
       "      <td>4</td>\n",
       "    </tr>\n",
       "    <tr>\n",
       "      <th>1</th>\n",
       "      <td>C5</td>\n",
       "      <td>C</td>\n",
       "      <td>5</td>\n",
       "    </tr>\n",
       "    <tr>\n",
       "      <th>2</th>\n",
       "      <td>I3</td>\n",
       "      <td>I</td>\n",
       "      <td>3</td>\n",
       "    </tr>\n",
       "    <tr>\n",
       "      <th>3</th>\n",
       "      <td>C3</td>\n",
       "      <td>C</td>\n",
       "      <td>3</td>\n",
       "    </tr>\n",
       "    <tr>\n",
       "      <th>4</th>\n",
       "      <td>I2</td>\n",
       "      <td>I</td>\n",
       "      <td>2</td>\n",
       "    </tr>\n",
       "  </tbody>\n",
       "</table>\n",
       "</div>"
      ],
      "text/plain": [
       "  product_id product  product_category_1\n",
       "0         C4       C                   4\n",
       "1         C5       C                   5\n",
       "2         I3       I                   3\n",
       "3         C3       C                   3\n",
       "4         I2       I                   2"
      ]
     },
     "execution_count": 137,
     "metadata": {},
     "output_type": "execute_result"
    }
   ],
   "source": [
    "df2 = pd.read_sql_query(\"\"\"SELECT * FROM ProductDetails\"\"\", conn)\n",
    "df2.head()"
   ]
  },
  {
   "cell_type": "code",
   "execution_count": 138,
   "id": "9db85f6c",
   "metadata": {},
   "outputs": [
    {
     "data": {
      "text/html": [
       "<div>\n",
       "<style scoped>\n",
       "    .dataframe tbody tr th:only-of-type {\n",
       "        vertical-align: middle;\n",
       "    }\n",
       "\n",
       "    .dataframe tbody tr th {\n",
       "        vertical-align: top;\n",
       "    }\n",
       "\n",
       "    .dataframe thead th {\n",
       "        text-align: right;\n",
       "    }\n",
       "</style>\n",
       "<table border=\"1\" class=\"dataframe\">\n",
       "  <thead>\n",
       "    <tr style=\"text-align: right;\">\n",
       "      <th></th>\n",
       "      <th>campaign_id</th>\n",
       "      <th>webpage_id</th>\n",
       "    </tr>\n",
       "  </thead>\n",
       "  <tbody>\n",
       "    <tr>\n",
       "      <th>0</th>\n",
       "      <td>82320</td>\n",
       "      <td>1734</td>\n",
       "    </tr>\n",
       "    <tr>\n",
       "      <th>1</th>\n",
       "      <td>98970</td>\n",
       "      <td>6970</td>\n",
       "    </tr>\n",
       "    <tr>\n",
       "      <th>2</th>\n",
       "      <td>105960</td>\n",
       "      <td>11085</td>\n",
       "    </tr>\n",
       "    <tr>\n",
       "      <th>3</th>\n",
       "      <td>118601</td>\n",
       "      <td>28529</td>\n",
       "    </tr>\n",
       "    <tr>\n",
       "      <th>4</th>\n",
       "      <td>359520</td>\n",
       "      <td>13787</td>\n",
       "    </tr>\n",
       "  </tbody>\n",
       "</table>\n",
       "</div>"
      ],
      "text/plain": [
       "   campaign_id  webpage_id\n",
       "0        82320        1734\n",
       "1        98970        6970\n",
       "2       105960       11085\n",
       "3       118601       28529\n",
       "4       359520       13787"
      ]
     },
     "execution_count": 138,
     "metadata": {},
     "output_type": "execute_result"
    }
   ],
   "source": [
    "df3 = pd.read_sql_query(\"\"\"SELECT * FROM CampaignDetails\"\"\", conn)\n",
    "df3.head()"
   ]
  },
  {
   "cell_type": "markdown",
   "id": "7a7f70aa",
   "metadata": {},
   "source": [
    "# Joining all the 3 tables from database into a dataframe"
   ]
  },
  {
   "cell_type": "code",
   "execution_count": 147,
   "id": "82e7bbfb",
   "metadata": {},
   "outputs": [
    {
     "data": {
      "text/html": [
       "<div>\n",
       "<style scoped>\n",
       "    .dataframe tbody tr th:only-of-type {\n",
       "        vertical-align: middle;\n",
       "    }\n",
       "\n",
       "    .dataframe tbody tr th {\n",
       "        vertical-align: top;\n",
       "    }\n",
       "\n",
       "    .dataframe thead th {\n",
       "        text-align: right;\n",
       "    }\n",
       "</style>\n",
       "<table border=\"1\" class=\"dataframe\">\n",
       "  <thead>\n",
       "    <tr style=\"text-align: right;\">\n",
       "      <th></th>\n",
       "      <th>session_id</th>\n",
       "      <th>campaign_id</th>\n",
       "      <th>DateTime</th>\n",
       "      <th>user_id</th>\n",
       "      <th>user_group_id</th>\n",
       "      <th>gender</th>\n",
       "      <th>age_level</th>\n",
       "      <th>user_depth</th>\n",
       "      <th>product</th>\n",
       "      <th>product_category_1</th>\n",
       "      <th>webpage_id</th>\n",
       "      <th>is_click</th>\n",
       "      <th>var_1</th>\n",
       "    </tr>\n",
       "  </thead>\n",
       "  <tbody>\n",
       "    <tr>\n",
       "      <th>0</th>\n",
       "      <td>2</td>\n",
       "      <td>404347</td>\n",
       "      <td>2017-07-06 14:06</td>\n",
       "      <td>16467</td>\n",
       "      <td>3</td>\n",
       "      <td>Male</td>\n",
       "      <td>3</td>\n",
       "      <td>3</td>\n",
       "      <td>A</td>\n",
       "      <td>1</td>\n",
       "      <td>53587</td>\n",
       "      <td>0</td>\n",
       "      <td>1</td>\n",
       "    </tr>\n",
       "    <tr>\n",
       "      <th>1</th>\n",
       "      <td>3</td>\n",
       "      <td>404347</td>\n",
       "      <td>2017-07-05 19:38</td>\n",
       "      <td>1045409</td>\n",
       "      <td>2</td>\n",
       "      <td>Male</td>\n",
       "      <td>2</td>\n",
       "      <td>3</td>\n",
       "      <td>B</td>\n",
       "      <td>1</td>\n",
       "      <td>53587</td>\n",
       "      <td>0</td>\n",
       "      <td>0</td>\n",
       "    </tr>\n",
       "    <tr>\n",
       "      <th>2</th>\n",
       "      <td>4</td>\n",
       "      <td>404347</td>\n",
       "      <td>2017-07-06 01:32</td>\n",
       "      <td>303497</td>\n",
       "      <td>1</td>\n",
       "      <td>Male</td>\n",
       "      <td>1</td>\n",
       "      <td>3</td>\n",
       "      <td>C</td>\n",
       "      <td>1</td>\n",
       "      <td>53587</td>\n",
       "      <td>0</td>\n",
       "      <td>1</td>\n",
       "    </tr>\n",
       "    <tr>\n",
       "      <th>3</th>\n",
       "      <td>5</td>\n",
       "      <td>404347</td>\n",
       "      <td>2017-07-03 14:30</td>\n",
       "      <td>999059</td>\n",
       "      <td>11</td>\n",
       "      <td>Female</td>\n",
       "      <td>5</td>\n",
       "      <td>2</td>\n",
       "      <td>D</td>\n",
       "      <td>1</td>\n",
       "      <td>53587</td>\n",
       "      <td>0</td>\n",
       "      <td>0</td>\n",
       "    </tr>\n",
       "    <tr>\n",
       "      <th>4</th>\n",
       "      <td>6</td>\n",
       "      <td>404347</td>\n",
       "      <td>2017-07-03 21:25</td>\n",
       "      <td>148074</td>\n",
       "      <td>5</td>\n",
       "      <td>Male</td>\n",
       "      <td>5</td>\n",
       "      <td>3</td>\n",
       "      <td>D</td>\n",
       "      <td>1</td>\n",
       "      <td>53587</td>\n",
       "      <td>0</td>\n",
       "      <td>0</td>\n",
       "    </tr>\n",
       "  </tbody>\n",
       "</table>\n",
       "</div>"
      ],
      "text/plain": [
       "   session_id  campaign_id          DateTime  user_id  user_group_id  gender  \\\n",
       "0           2       404347  2017-07-06 14:06    16467              3    Male   \n",
       "1           3       404347  2017-07-05 19:38  1045409              2    Male   \n",
       "2           4       404347  2017-07-06 01:32   303497              1    Male   \n",
       "3           5       404347  2017-07-03 14:30   999059             11  Female   \n",
       "4           6       404347  2017-07-03 21:25   148074              5    Male   \n",
       "\n",
       "   age_level  user_depth product  product_category_1  webpage_id  is_click  \\\n",
       "0          3           3       A                   1       53587         0   \n",
       "1          2           3       B                   1       53587         0   \n",
       "2          1           3       C                   1       53587         0   \n",
       "3          5           2       D                   1       53587         0   \n",
       "4          5           3       D                   1       53587         0   \n",
       "\n",
       "   var_1  \n",
       "0      1  \n",
       "1      0  \n",
       "2      1  \n",
       "3      0  \n",
       "4      0  "
      ]
     },
     "execution_count": 147,
     "metadata": {},
     "output_type": "execute_result"
    }
   ],
   "source": [
    "sql = \"\"\"SELECT A.session_id,A.campaign_id,A.DateTime,A.user_id,A.user_group_id,A.gender,A.age_level,A.user_depth,B.product,B.product_category_1,C.webpage_id,A.is_click,A.var_1 From UserSession as A \n",
    "inner join ProductDetails as B ON\n",
    "A.product_id = B.product_id\n",
    "inner join CampaignDetails as C ON\n",
    "A.campaign_id = C.campaign_id\"\"\"\n",
    "df4 = pd.read_sql_query(sql, conn)\n",
    "df4.head()"
   ]
  },
  {
   "cell_type": "markdown",
   "id": "98ed4c23",
   "metadata": {},
   "source": [
    "## Dropping columns from domain knowledge and converting relevant columns for model"
   ]
  },
  {
   "cell_type": "code",
   "execution_count": 148,
   "id": "67f1f860",
   "metadata": {},
   "outputs": [
    {
     "data": {
      "text/html": [
       "<div>\n",
       "<style scoped>\n",
       "    .dataframe tbody tr th:only-of-type {\n",
       "        vertical-align: middle;\n",
       "    }\n",
       "\n",
       "    .dataframe tbody tr th {\n",
       "        vertical-align: top;\n",
       "    }\n",
       "\n",
       "    .dataframe thead th {\n",
       "        text-align: right;\n",
       "    }\n",
       "</style>\n",
       "<table border=\"1\" class=\"dataframe\">\n",
       "  <thead>\n",
       "    <tr style=\"text-align: right;\">\n",
       "      <th></th>\n",
       "      <th>gender</th>\n",
       "      <th>age_level</th>\n",
       "      <th>user_depth</th>\n",
       "      <th>product</th>\n",
       "      <th>product_category_1</th>\n",
       "      <th>is_click</th>\n",
       "      <th>var_1</th>\n",
       "      <th>wday</th>\n",
       "    </tr>\n",
       "  </thead>\n",
       "  <tbody>\n",
       "    <tr>\n",
       "      <th>0</th>\n",
       "      <td>Male</td>\n",
       "      <td>3</td>\n",
       "      <td>3</td>\n",
       "      <td>A</td>\n",
       "      <td>1</td>\n",
       "      <td>0</td>\n",
       "      <td>1</td>\n",
       "      <td>3</td>\n",
       "    </tr>\n",
       "    <tr>\n",
       "      <th>1</th>\n",
       "      <td>Male</td>\n",
       "      <td>2</td>\n",
       "      <td>3</td>\n",
       "      <td>B</td>\n",
       "      <td>1</td>\n",
       "      <td>0</td>\n",
       "      <td>0</td>\n",
       "      <td>2</td>\n",
       "    </tr>\n",
       "    <tr>\n",
       "      <th>2</th>\n",
       "      <td>Male</td>\n",
       "      <td>1</td>\n",
       "      <td>3</td>\n",
       "      <td>C</td>\n",
       "      <td>1</td>\n",
       "      <td>0</td>\n",
       "      <td>1</td>\n",
       "      <td>3</td>\n",
       "    </tr>\n",
       "    <tr>\n",
       "      <th>3</th>\n",
       "      <td>Female</td>\n",
       "      <td>5</td>\n",
       "      <td>2</td>\n",
       "      <td>D</td>\n",
       "      <td>1</td>\n",
       "      <td>0</td>\n",
       "      <td>0</td>\n",
       "      <td>0</td>\n",
       "    </tr>\n",
       "    <tr>\n",
       "      <th>4</th>\n",
       "      <td>Male</td>\n",
       "      <td>5</td>\n",
       "      <td>3</td>\n",
       "      <td>D</td>\n",
       "      <td>1</td>\n",
       "      <td>0</td>\n",
       "      <td>0</td>\n",
       "      <td>0</td>\n",
       "    </tr>\n",
       "  </tbody>\n",
       "</table>\n",
       "</div>"
      ],
      "text/plain": [
       "   gender  age_level  user_depth product  product_category_1  is_click  var_1  \\\n",
       "0    Male          3           3       A                   1         0      1   \n",
       "1    Male          2           3       B                   1         0      0   \n",
       "2    Male          1           3       C                   1         0      1   \n",
       "3  Female          5           2       D                   1         0      0   \n",
       "4    Male          5           3       D                   1         0      0   \n",
       "\n",
       "   wday  \n",
       "0     3  \n",
       "1     2  \n",
       "2     3  \n",
       "3     0  \n",
       "4     0  "
      ]
     },
     "execution_count": 148,
     "metadata": {},
     "output_type": "execute_result"
    }
   ],
   "source": [
    "df4.DateTime = df4.DateTime.apply(lambda s : datetime.strptime(s, '%Y-%m-%d %H:%M'))\n",
    "df4[\"wday\"] = df4.DateTime.apply(lambda x: x.weekday())\n",
    "df4[\"hours\"] = df4.DateTime.apply(lambda x : x.hour)\n",
    "df5 = df4.drop(columns=['session_id','DateTime','user_id','campaign_id','webpage_id','user_group_id','hours'],axis=1)\n",
    "df5.head()"
   ]
  },
  {
   "cell_type": "markdown",
   "id": "55d70fa6",
   "metadata": {},
   "source": [
    "# Spliting into test and train with encoding"
   ]
  },
  {
   "cell_type": "code",
   "execution_count": 219,
   "id": "9fc0c244",
   "metadata": {},
   "outputs": [
    {
     "name": "stderr",
     "output_type": "stream",
     "text": [
      "/opt/anaconda3/lib/python3.8/site-packages/pandas/core/indexing.py:1676: SettingWithCopyWarning: \n",
      "A value is trying to be set on a copy of a slice from a DataFrame.\n",
      "Try using .loc[row_indexer,col_indexer] = value instead\n",
      "\n",
      "See the caveats in the documentation: https://pandas.pydata.org/pandas-docs/stable/user_guide/indexing.html#returning-a-view-versus-a-copy\n",
      "  self._setitem_single_column(ilocs[0], value, pi)\n"
     ]
    }
   ],
   "source": [
    "train_df, test_df = train_test_split(df5, test_size=0.2, random_state=42)\n",
    "encoder = preprocessing.LabelEncoder()\n",
    "train_df.loc[:,\"gender\"] = encoder.fit_transform(train_df[\"gender\"])\n",
    "test_df.loc[:,\"gender\"] = encoder.fit_transform(test_df[\"gender\"])\n",
    "train_df.loc[:,\"product\"] = encoder.fit_transform(train_df[\"product\"])\n",
    "test_df.loc[:,\"product\"] = encoder.fit_transform(test_df[\"product\"])"
   ]
  },
  {
   "cell_type": "markdown",
   "id": "7d4da9b5",
   "metadata": {},
   "source": [
    "# Separating Dependent Variable"
   ]
  },
  {
   "cell_type": "code",
   "execution_count": 210,
   "id": "3ddfc0e2",
   "metadata": {},
   "outputs": [
    {
     "data": {
      "text/html": [
       "<div>\n",
       "<style scoped>\n",
       "    .dataframe tbody tr th:only-of-type {\n",
       "        vertical-align: middle;\n",
       "    }\n",
       "\n",
       "    .dataframe tbody tr th {\n",
       "        vertical-align: top;\n",
       "    }\n",
       "\n",
       "    .dataframe thead th {\n",
       "        text-align: right;\n",
       "    }\n",
       "</style>\n",
       "<table border=\"1\" class=\"dataframe\">\n",
       "  <thead>\n",
       "    <tr style=\"text-align: right;\">\n",
       "      <th></th>\n",
       "      <th>gender</th>\n",
       "      <th>age_level</th>\n",
       "      <th>user_depth</th>\n",
       "      <th>product</th>\n",
       "      <th>product_category_1</th>\n",
       "      <th>var_1</th>\n",
       "      <th>wday</th>\n",
       "    </tr>\n",
       "  </thead>\n",
       "  <tbody>\n",
       "    <tr>\n",
       "      <th>319338</th>\n",
       "      <td>1</td>\n",
       "      <td>5</td>\n",
       "      <td>3</td>\n",
       "      <td>9</td>\n",
       "      <td>1</td>\n",
       "      <td>0</td>\n",
       "      <td>3</td>\n",
       "    </tr>\n",
       "    <tr>\n",
       "      <th>340345</th>\n",
       "      <td>1</td>\n",
       "      <td>3</td>\n",
       "      <td>3</td>\n",
       "      <td>8</td>\n",
       "      <td>2</td>\n",
       "      <td>0</td>\n",
       "      <td>6</td>\n",
       "    </tr>\n",
       "    <tr>\n",
       "      <th>28588</th>\n",
       "      <td>1</td>\n",
       "      <td>3</td>\n",
       "      <td>3</td>\n",
       "      <td>7</td>\n",
       "      <td>3</td>\n",
       "      <td>0</td>\n",
       "      <td>3</td>\n",
       "    </tr>\n",
       "    <tr>\n",
       "      <th>235958</th>\n",
       "      <td>0</td>\n",
       "      <td>4</td>\n",
       "      <td>3</td>\n",
       "      <td>2</td>\n",
       "      <td>5</td>\n",
       "      <td>0</td>\n",
       "      <td>0</td>\n",
       "    </tr>\n",
       "    <tr>\n",
       "      <th>436493</th>\n",
       "      <td>1</td>\n",
       "      <td>1</td>\n",
       "      <td>3</td>\n",
       "      <td>7</td>\n",
       "      <td>5</td>\n",
       "      <td>0</td>\n",
       "      <td>4</td>\n",
       "    </tr>\n",
       "  </tbody>\n",
       "</table>\n",
       "</div>"
      ],
      "text/plain": [
       "        gender  age_level  user_depth  product  product_category_1  var_1  \\\n",
       "319338       1          5           3        9                   1      0   \n",
       "340345       1          3           3        8                   2      0   \n",
       "28588        1          3           3        7                   3      0   \n",
       "235958       0          4           3        2                   5      0   \n",
       "436493       1          1           3        7                   5      0   \n",
       "\n",
       "        wday  \n",
       "319338     3  \n",
       "340345     6  \n",
       "28588      3  \n",
       "235958     0  \n",
       "436493     4  "
      ]
     },
     "execution_count": 210,
     "metadata": {},
     "output_type": "execute_result"
    }
   ],
   "source": [
    "y_train = train_df[\"is_click\"]\n",
    "y_test = test_df[\"is_click\"]\n",
    "train_df = train_df.drop(columns=[\"is_click\"],axis=1)\n",
    "test_df = test_df.drop(columns=[\"is_click\"],axis=1)\n",
    "train_df.head()"
   ]
  },
  {
   "cell_type": "markdown",
   "id": "596cd4f4",
   "metadata": {},
   "source": [
    "# Feature Selection"
   ]
  },
  {
   "cell_type": "code",
   "execution_count": 211,
   "id": "22e1b980",
   "metadata": {},
   "outputs": [
    {
     "name": "stdout",
     "output_type": "stream",
     "text": [
      "[0.03047801 0.22408757 0.08490867 0.28941679 0.13990719 0.02774336\n",
      " 0.20345841]\n"
     ]
    },
    {
     "data": {
      "text/html": [
       "<div>\n",
       "<style scoped>\n",
       "    .dataframe tbody tr th:only-of-type {\n",
       "        vertical-align: middle;\n",
       "    }\n",
       "\n",
       "    .dataframe tbody tr th {\n",
       "        vertical-align: top;\n",
       "    }\n",
       "\n",
       "    .dataframe thead th {\n",
       "        text-align: right;\n",
       "    }\n",
       "</style>\n",
       "<table border=\"1\" class=\"dataframe\">\n",
       "  <thead>\n",
       "    <tr style=\"text-align: right;\">\n",
       "      <th></th>\n",
       "      <th>features</th>\n",
       "      <th>feature_importances</th>\n",
       "    </tr>\n",
       "  </thead>\n",
       "  <tbody>\n",
       "    <tr>\n",
       "      <th>0</th>\n",
       "      <td>gender</td>\n",
       "      <td>0.030478</td>\n",
       "    </tr>\n",
       "    <tr>\n",
       "      <th>1</th>\n",
       "      <td>age_level</td>\n",
       "      <td>0.224088</td>\n",
       "    </tr>\n",
       "    <tr>\n",
       "      <th>2</th>\n",
       "      <td>user_depth</td>\n",
       "      <td>0.084909</td>\n",
       "    </tr>\n",
       "    <tr>\n",
       "      <th>3</th>\n",
       "      <td>product</td>\n",
       "      <td>0.289417</td>\n",
       "    </tr>\n",
       "    <tr>\n",
       "      <th>4</th>\n",
       "      <td>product_category_1</td>\n",
       "      <td>0.139907</td>\n",
       "    </tr>\n",
       "    <tr>\n",
       "      <th>5</th>\n",
       "      <td>var_1</td>\n",
       "      <td>0.027743</td>\n",
       "    </tr>\n",
       "    <tr>\n",
       "      <th>6</th>\n",
       "      <td>wday</td>\n",
       "      <td>0.203458</td>\n",
       "    </tr>\n",
       "  </tbody>\n",
       "</table>\n",
       "</div>"
      ],
      "text/plain": [
       "             features  feature_importances\n",
       "0              gender             0.030478\n",
       "1           age_level             0.224088\n",
       "2          user_depth             0.084909\n",
       "3             product             0.289417\n",
       "4  product_category_1             0.139907\n",
       "5               var_1             0.027743\n",
       "6                wday             0.203458"
      ]
     },
     "execution_count": 211,
     "metadata": {},
     "output_type": "execute_result"
    }
   ],
   "source": [
    "from sklearn.ensemble import ExtraTreesClassifier\n",
    "model = ExtraTreesClassifier(n_estimators=10)\n",
    "model.fit(train_df, y_train)\n",
    "print(model.feature_importances_)\n",
    "dfscores = pd.DataFrame(model.feature_importances_)\n",
    "dfcolumns = pd.DataFrame(train_df.columns)\n",
    "featureScores = pd.concat([dfcolumns,dfscores],axis=1)\n",
    "featureScores.columns = ['features','feature_importances']\n",
    "featureScores"
   ]
  },
  {
   "cell_type": "markdown",
   "id": "d8b978c2",
   "metadata": {},
   "source": [
    "# Feature Extraction with PCA"
   ]
  },
  {
   "cell_type": "code",
   "execution_count": 212,
   "id": "fddec0fd",
   "metadata": {},
   "outputs": [
    {
     "name": "stdout",
     "output_type": "stream",
     "text": [
      "Explained Variance: [0.50465398 0.27058496 0.11678851]\n"
     ]
    }
   ],
   "source": [
    "from sklearn.decomposition import PCA\n",
    "pca = PCA(n_components=3)\n",
    "fit = pca.fit(train_df)\n",
    "print(\"Explained Variance: %s\" % fit.explained_variance_ratio_)"
   ]
  },
  {
   "cell_type": "markdown",
   "id": "c252e329",
   "metadata": {},
   "source": [
    "# Correlation Matrix"
   ]
  },
  {
   "cell_type": "code",
   "execution_count": 213,
   "id": "df4be57a",
   "metadata": {},
   "outputs": [
    {
     "data": {
      "text/plain": [
       "<AxesSubplot:>"
      ]
     },
     "execution_count": 213,
     "metadata": {},
     "output_type": "execute_result"
    },
    {
     "data": {
      "image/png": "[encoded data removed]",
      "text/plain": [
       "<Figure size 432x288 with 2 Axes>"
      ]
     },
     "metadata": {
      "needs_background": "light"
     },
     "output_type": "display_data"
    }
   ],
   "source": [
    "corrMatrix = df5.corr()\n",
    "sns.heatmap(corrMatrix, annot=True)"
   ]
  },
  {
   "cell_type": "markdown",
   "id": "a3224d80",
   "metadata": {},
   "source": [
    "# Model Fitting "
   ]
  },
  {
   "cell_type": "markdown",
   "id": "5c450521",
   "metadata": {},
   "source": [
    "### Gaussian Naive Bayes"
   ]
  },
  {
   "cell_type": "code",
   "execution_count": 221,
   "id": "c28db717",
   "metadata": {},
   "outputs": [
    {
     "data": {
      "text/plain": [
       "0.9335018537243006"
      ]
     },
     "execution_count": 221,
     "metadata": {},
     "output_type": "execute_result"
    }
   ],
   "source": [
    "from sklearn.naive_bayes import GaussianNB\n",
    "gnb = GaussianNB()\n",
    "y_prob = gnb.fit(train_df[[\"wday\",\"age_level\",\"product\"]], y_train).predict_proba(test_df[[\"wday\",\"age_level\",\"product\"]])\n",
    "y_pred = gnb.fit(train_df[[\"wday\",\"age_level\",\"product\"]], y_train).predict(test_df[[\"wday\",\"age_level\",\"product\"]])\n",
    "accuracy_score(y_test,y_pred)"
   ]
  },
  {
   "cell_type": "code",
   "execution_count": null,
   "id": "827591ad",
   "metadata": {},
   "outputs": [],
   "source": []
  }
 ],
 "metadata": {
  "kernelspec": {
   "display_name": "Python 3",
   "language": "python",
   "name": "python3"
  },
  "language_info": {
   "codemirror_mode": {
    "name": "ipython",
    "version": 3
   },
   "file_extension": ".py",
   "mimetype": "text/x-python",
   "name": "python",
   "nbconvert_exporter": "python",
   "pygments_lexer": "ipython3",
   "version": "3.8.8"
  }
 },
 "nbformat": 4,
 "nbformat_minor": 5
}
